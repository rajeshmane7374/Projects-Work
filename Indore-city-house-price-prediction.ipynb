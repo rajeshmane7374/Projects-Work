{
 "cells": [
  {
   "cell_type": "markdown",
   "id": "6ace3f43",
   "metadata": {},
   "source": [
    "#A real-estate startup has hired you- participants of the IPBA- to work on a pricing model for used houses.\n",
    "\n",
    "#Objective\n",
    "#To predict the Housing prices in Indore as a function of the different\n",
    "#attributes of houses and locality\n",
    "\n",
    "#Develop a pricing model that will make an estimate of the Price of the house. \n",
    "#This will help the company to reduce its cost and also streamline the process of selling used houses.\n",
    "\n",
    "\n",
    "#CRIM: per capita crime rate\n",
    "#ZN: the proportion of residential land zoned for lots larger than 25,000 sq.ft.\n",
    "#INDUS: the proportion of non-retail business acres per town.\n",
    "#RIVER_FLG: River Dummy Var (this is equal to 1 if tract bounds river; 0 otherwise)\n",
    "#nitric oxides concentration: the nitric oxides concentration (parts per 10 million)\n",
    "#rooms/dwelling: the average number of rooms per dwelling\n",
    "#AGE: the proportion of owner-occupied units built prior to 1940\n",
    "#DIS: the weighted distances to five employment centers of the town\n",
    "#RAD: the index of accessibility to radial highways\n",
    "#TAX: the full-value property-tax rate per INR 10 millions (1 crores)\n",
    "#PTRATIO: the pupil-teacher ratio by area\n",
    "#B: calculated as 1000(Bk - 0.63)², where Bk is the proportion of people living is slums in the area\n",
    "#LSTAT: This is the percentage lower status and income of the population\n",
    "#MEDV: This is the median value of owner-occupied homes in INR millions (10 lakhs)\n",
    "\n",
    "#Participants should be able to :\n",
    "#Clean the data\n",
    "#perform EDA and Visualizations\n",
    "#perform feature engineering\n",
    "#build a model (linear regression)\n",
    "#evaluate the model\n",
    "#provide business insights from the model"
   ]
  },
  {
   "cell_type": "code",
   "execution_count": 1,
   "id": "654f325c",
   "metadata": {},
   "outputs": [],
   "source": [
    "import pandas as pd\n",
    "import numpy as np"
   ]
  },
  {
   "cell_type": "code",
   "execution_count": 2,
   "id": "0af343ac",
   "metadata": {},
   "outputs": [],
   "source": [
    "train=pd.read_csv('IndoreHP_Train.csv')\n",
    "test=pd.read_csv('IndoreHP_Test.csv')"
   ]
  },
  {
   "cell_type": "code",
   "execution_count": 3,
   "id": "2d67ceb0",
   "metadata": {},
   "outputs": [
    {
     "data": {
      "text/html": [
       "<div>\n",
       "<style scoped>\n",
       "    .dataframe tbody tr th:only-of-type {\n",
       "        vertical-align: middle;\n",
       "    }\n",
       "\n",
       "    .dataframe tbody tr th {\n",
       "        vertical-align: top;\n",
       "    }\n",
       "\n",
       "    .dataframe thead th {\n",
       "        text-align: right;\n",
       "    }\n",
       "</style>\n",
       "<table border=\"1\" class=\"dataframe\">\n",
       "  <thead>\n",
       "    <tr style=\"text-align: right;\">\n",
       "      <th></th>\n",
       "      <th>ID</th>\n",
       "      <th>CRIM</th>\n",
       "      <th>ZN</th>\n",
       "      <th>INDUS</th>\n",
       "      <th>RIVER_FLG</th>\n",
       "      <th>nitric oxides concentration</th>\n",
       "      <th>#rooms/dwelling</th>\n",
       "      <th>AGE</th>\n",
       "      <th>DIS</th>\n",
       "      <th>RAD</th>\n",
       "      <th>TAX</th>\n",
       "      <th>PTRATIO</th>\n",
       "      <th>B</th>\n",
       "      <th>LSTAT</th>\n",
       "      <th>MEDV</th>\n",
       "    </tr>\n",
       "  </thead>\n",
       "  <tbody>\n",
       "    <tr>\n",
       "      <th>0</th>\n",
       "      <td>1</td>\n",
       "      <td>0.006130</td>\n",
       "      <td>18.0</td>\n",
       "      <td>2.3562</td>\n",
       "      <td>0</td>\n",
       "      <td>0.51648</td>\n",
       "      <td>6.31200</td>\n",
       "      <td>64.548</td>\n",
       "      <td>4.090000</td>\n",
       "      <td>1</td>\n",
       "      <td>296</td>\n",
       "      <td>15.3</td>\n",
       "      <td>404.8380</td>\n",
       "      <td>4.8804</td>\n",
       "      <td>24.720</td>\n",
       "    </tr>\n",
       "    <tr>\n",
       "      <th>1</th>\n",
       "      <td>2</td>\n",
       "      <td>0.027037</td>\n",
       "      <td>0.0</td>\n",
       "      <td>6.8579</td>\n",
       "      <td>0</td>\n",
       "      <td>0.48776</td>\n",
       "      <td>6.74205</td>\n",
       "      <td>81.267</td>\n",
       "      <td>5.165784</td>\n",
       "      <td>2</td>\n",
       "      <td>242</td>\n",
       "      <td>17.8</td>\n",
       "      <td>416.7450</td>\n",
       "      <td>9.4142</td>\n",
       "      <td>22.680</td>\n",
       "    </tr>\n",
       "    <tr>\n",
       "      <th>2</th>\n",
       "      <td>3</td>\n",
       "      <td>0.028109</td>\n",
       "      <td>0.0</td>\n",
       "      <td>6.9286</td>\n",
       "      <td>0</td>\n",
       "      <td>0.45962</td>\n",
       "      <td>7.40055</td>\n",
       "      <td>61.711</td>\n",
       "      <td>4.967100</td>\n",
       "      <td>2</td>\n",
       "      <td>242</td>\n",
       "      <td>17.8</td>\n",
       "      <td>396.7583</td>\n",
       "      <td>4.0703</td>\n",
       "      <td>36.435</td>\n",
       "    </tr>\n",
       "    <tr>\n",
       "      <th>3</th>\n",
       "      <td>4</td>\n",
       "      <td>0.033341</td>\n",
       "      <td>0.0</td>\n",
       "      <td>2.2454</td>\n",
       "      <td>0</td>\n",
       "      <td>0.44426</td>\n",
       "      <td>7.34790</td>\n",
       "      <td>45.342</td>\n",
       "      <td>6.001578</td>\n",
       "      <td>3</td>\n",
       "      <td>222</td>\n",
       "      <td>18.7</td>\n",
       "      <td>406.4689</td>\n",
       "      <td>2.9400</td>\n",
       "      <td>34.736</td>\n",
       "    </tr>\n",
       "    <tr>\n",
       "      <th>4</th>\n",
       "      <td>5</td>\n",
       "      <td>0.072502</td>\n",
       "      <td>0.0</td>\n",
       "      <td>2.1800</td>\n",
       "      <td>0</td>\n",
       "      <td>0.47632</td>\n",
       "      <td>7.14700</td>\n",
       "      <td>53.658</td>\n",
       "      <td>5.819712</td>\n",
       "      <td>3</td>\n",
       "      <td>222</td>\n",
       "      <td>18.7</td>\n",
       "      <td>388.9620</td>\n",
       "      <td>5.3833</td>\n",
       "      <td>38.010</td>\n",
       "    </tr>\n",
       "  </tbody>\n",
       "</table>\n",
       "</div>"
      ],
      "text/plain": [
       "   ID      CRIM    ZN   INDUS  RIVER_FLG  nitric oxides concentration  \\\n",
       "0   1  0.006130  18.0  2.3562          0                      0.51648   \n",
       "1   2  0.027037   0.0  6.8579          0                      0.48776   \n",
       "2   3  0.028109   0.0  6.9286          0                      0.45962   \n",
       "3   4  0.033341   0.0  2.2454          0                      0.44426   \n",
       "4   5  0.072502   0.0  2.1800          0                      0.47632   \n",
       "\n",
       "   #rooms/dwelling     AGE       DIS  RAD  TAX  PTRATIO           B   LSTAT  \\\n",
       "0          6.31200  64.548  4.090000    1  296       15.3  404.8380  4.8804   \n",
       "1          6.74205  81.267  5.165784    2  242       17.8  416.7450  9.4142   \n",
       "2          7.40055  61.711  4.967100    2  242       17.8  396.7583  4.0703   \n",
       "3          7.34790  45.342  6.001578    3  222       18.7  406.4689  2.9400   \n",
       "4          7.14700  53.658  5.819712    3  222       18.7  388.9620  5.3833   \n",
       "\n",
       "     MEDV  \n",
       "0  24.720  \n",
       "1  22.680  \n",
       "2  36.435  \n",
       "3  34.736  \n",
       "4  38.010  "
      ]
     },
     "execution_count": 3,
     "metadata": {},
     "output_type": "execute_result"
    }
   ],
   "source": [
    "train.head()"
   ]
  },
  {
   "cell_type": "code",
   "execution_count": 4,
   "id": "fa228e64",
   "metadata": {},
   "outputs": [
    {
     "data": {
      "text/html": [
       "<div>\n",
       "<style scoped>\n",
       "    .dataframe tbody tr th:only-of-type {\n",
       "        vertical-align: middle;\n",
       "    }\n",
       "\n",
       "    .dataframe tbody tr th {\n",
       "        vertical-align: top;\n",
       "    }\n",
       "\n",
       "    .dataframe thead th {\n",
       "        text-align: right;\n",
       "    }\n",
       "</style>\n",
       "<table border=\"1\" class=\"dataframe\">\n",
       "  <thead>\n",
       "    <tr style=\"text-align: right;\">\n",
       "      <th></th>\n",
       "      <th>ID</th>\n",
       "      <th>CRIM</th>\n",
       "      <th>ZN</th>\n",
       "      <th>INDUS</th>\n",
       "      <th>RIVER_FLG</th>\n",
       "      <th>nitric oxides concentration</th>\n",
       "      <th>#rooms/dwelling</th>\n",
       "      <th>AGE</th>\n",
       "      <th>DIS</th>\n",
       "      <th>RAD</th>\n",
       "      <th>TAX</th>\n",
       "      <th>PTRATIO</th>\n",
       "      <th>B</th>\n",
       "      <th>LSTAT</th>\n",
       "    </tr>\n",
       "  </thead>\n",
       "  <tbody>\n",
       "    <tr>\n",
       "      <th>0</th>\n",
       "      <td>400</td>\n",
       "      <td>9.693915</td>\n",
       "      <td>0</td>\n",
       "      <td>18.824</td>\n",
       "      <td>0</td>\n",
       "      <td>0.63731</td>\n",
       "      <td>6.02952</td>\n",
       "      <td>100.000</td>\n",
       "      <td>1.204173</td>\n",
       "      <td>24</td>\n",
       "      <td>666</td>\n",
       "      <td>20.2</td>\n",
       "      <td>347.8425</td>\n",
       "      <td>10.0065</td>\n",
       "    </tr>\n",
       "    <tr>\n",
       "      <th>1</th>\n",
       "      <td>401</td>\n",
       "      <td>5.143131</td>\n",
       "      <td>0</td>\n",
       "      <td>18.462</td>\n",
       "      <td>0</td>\n",
       "      <td>0.63731</td>\n",
       "      <td>4.97000</td>\n",
       "      <td>100.000</td>\n",
       "      <td>1.305850</td>\n",
       "      <td>24</td>\n",
       "      <td>666</td>\n",
       "      <td>20.2</td>\n",
       "      <td>356.7440</td>\n",
       "      <td>3.0970</td>\n",
       "    </tr>\n",
       "    <tr>\n",
       "      <th>2</th>\n",
       "      <td>402</td>\n",
       "      <td>6.407985</td>\n",
       "      <td>0</td>\n",
       "      <td>17.557</td>\n",
       "      <td>1</td>\n",
       "      <td>0.63100</td>\n",
       "      <td>7.01600</td>\n",
       "      <td>93.600</td>\n",
       "      <td>1.178352</td>\n",
       "      <td>24</td>\n",
       "      <td>666</td>\n",
       "      <td>20.2</td>\n",
       "      <td>380.2885</td>\n",
       "      <td>3.0192</td>\n",
       "    </tr>\n",
       "    <tr>\n",
       "      <th>3</th>\n",
       "      <td>403</td>\n",
       "      <td>8.267250</td>\n",
       "      <td>0</td>\n",
       "      <td>18.462</td>\n",
       "      <td>1</td>\n",
       "      <td>0.67468</td>\n",
       "      <td>6.16875</td>\n",
       "      <td>93.184</td>\n",
       "      <td>1.107008</td>\n",
       "      <td>24</td>\n",
       "      <td>666</td>\n",
       "      <td>20.2</td>\n",
       "      <td>354.8376</td>\n",
       "      <td>9.3240</td>\n",
       "    </tr>\n",
       "    <tr>\n",
       "      <th>4</th>\n",
       "      <td>404</td>\n",
       "      <td>5.726680</td>\n",
       "      <td>0</td>\n",
       "      <td>17.919</td>\n",
       "      <td>1</td>\n",
       "      <td>0.66255</td>\n",
       "      <td>6.95032</td>\n",
       "      <td>96.800</td>\n",
       "      <td>1.329566</td>\n",
       "      <td>24</td>\n",
       "      <td>666</td>\n",
       "      <td>20.2</td>\n",
       "      <td>364.0701</td>\n",
       "      <td>3.5808</td>\n",
       "    </tr>\n",
       "  </tbody>\n",
       "</table>\n",
       "</div>"
      ],
      "text/plain": [
       "    ID      CRIM  ZN   INDUS  RIVER_FLG  nitric oxides concentration  \\\n",
       "0  400  9.693915   0  18.824          0                      0.63731   \n",
       "1  401  5.143131   0  18.462          0                      0.63731   \n",
       "2  402  6.407985   0  17.557          1                      0.63100   \n",
       "3  403  8.267250   0  18.462          1                      0.67468   \n",
       "4  404  5.726680   0  17.919          1                      0.66255   \n",
       "\n",
       "   #rooms/dwelling      AGE       DIS  RAD  TAX  PTRATIO           B    LSTAT  \n",
       "0          6.02952  100.000  1.204173   24  666       20.2  347.8425  10.0065  \n",
       "1          4.97000  100.000  1.305850   24  666       20.2  356.7440   3.0970  \n",
       "2          7.01600   93.600  1.178352   24  666       20.2  380.2885   3.0192  \n",
       "3          6.16875   93.184  1.107008   24  666       20.2  354.8376   9.3240  \n",
       "4          6.95032   96.800  1.329566   24  666       20.2  364.0701   3.5808  "
      ]
     },
     "execution_count": 4,
     "metadata": {},
     "output_type": "execute_result"
    }
   ],
   "source": [
    "test.head()"
   ]
  },
  {
   "cell_type": "code",
   "execution_count": 5,
   "id": "1dce6636",
   "metadata": {},
   "outputs": [
    {
     "name": "stdout",
     "output_type": "stream",
     "text": [
      "<class 'pandas.core.frame.DataFrame'>\n",
      "RangeIndex: 350 entries, 0 to 349\n",
      "Data columns (total 15 columns):\n",
      " #   Column                       Non-Null Count  Dtype  \n",
      "---  ------                       --------------  -----  \n",
      " 0   ID                           350 non-null    int64  \n",
      " 1   CRIM                         350 non-null    float64\n",
      " 2   ZN                           350 non-null    float64\n",
      " 3   INDUS                        350 non-null    float64\n",
      " 4   RIVER_FLG                    350 non-null    int64  \n",
      " 5   nitric oxides concentration  350 non-null    float64\n",
      " 6   #rooms/dwelling              350 non-null    float64\n",
      " 7   AGE                          350 non-null    float64\n",
      " 8   DIS                          350 non-null    float64\n",
      " 9   RAD                          350 non-null    int64  \n",
      " 10  TAX                          350 non-null    int64  \n",
      " 11  PTRATIO                      350 non-null    float64\n",
      " 12  B                            350 non-null    float64\n",
      " 13  LSTAT                        350 non-null    float64\n",
      " 14  MEDV                         350 non-null    float64\n",
      "dtypes: float64(11), int64(4)\n",
      "memory usage: 41.1 KB\n"
     ]
    }
   ],
   "source": [
    "train.info()"
   ]
  },
  {
   "cell_type": "code",
   "execution_count": 6,
   "id": "9a189d1c",
   "metadata": {},
   "outputs": [
    {
     "data": {
      "text/plain": [
       "0    0\n",
       "1    0\n",
       "2    0\n",
       "3    0\n",
       "4    0\n",
       "Name: RIVER_FLG, dtype: int64"
      ]
     },
     "execution_count": 6,
     "metadata": {},
     "output_type": "execute_result"
    }
   ],
   "source": [
    "train['RIVER_FLG'].head()"
   ]
  },
  {
   "cell_type": "code",
   "execution_count": 7,
   "id": "b0b41069",
   "metadata": {},
   "outputs": [
    {
     "data": {
      "text/plain": [
       "(350,)"
      ]
     },
     "execution_count": 7,
     "metadata": {},
     "output_type": "execute_result"
    }
   ],
   "source": [
    "train['RAD'].shape"
   ]
  },
  {
   "cell_type": "code",
   "execution_count": 8,
   "id": "970cafd7",
   "metadata": {},
   "outputs": [
    {
     "name": "stdout",
     "output_type": "stream",
     "text": [
      "[0, 1]\n"
     ]
    }
   ],
   "source": [
    "print(train['RIVER_FLG'].unique().tolist())"
   ]
  },
  {
   "cell_type": "code",
   "execution_count": 9,
   "id": "1473005b",
   "metadata": {},
   "outputs": [
    {
     "name": "stdout",
     "output_type": "stream",
     "text": [
      "[1, 2, 3, 5, 4, 8, 6, 7]\n"
     ]
    }
   ],
   "source": [
    "print(train['RAD'].unique().tolist())"
   ]
  },
  {
   "cell_type": "code",
   "execution_count": 10,
   "id": "fe4d7368",
   "metadata": {},
   "outputs": [
    {
     "data": {
      "text/plain": [
       "ID                             0\n",
       "CRIM                           0\n",
       "ZN                             0\n",
       "INDUS                          0\n",
       "RIVER_FLG                      0\n",
       "nitric oxides concentration    0\n",
       "#rooms/dwelling                0\n",
       "AGE                            0\n",
       "DIS                            0\n",
       "RAD                            0\n",
       "TAX                            0\n",
       "PTRATIO                        0\n",
       "B                              0\n",
       "LSTAT                          0\n",
       "MEDV                           0\n",
       "dtype: int64"
      ]
     },
     "execution_count": 10,
     "metadata": {},
     "output_type": "execute_result"
    }
   ],
   "source": [
    "train.isnull().sum()"
   ]
  },
  {
   "cell_type": "code",
   "execution_count": 11,
   "id": "cf2d94b7",
   "metadata": {},
   "outputs": [
    {
     "data": {
      "text/html": [
       "<div>\n",
       "<style scoped>\n",
       "    .dataframe tbody tr th:only-of-type {\n",
       "        vertical-align: middle;\n",
       "    }\n",
       "\n",
       "    .dataframe tbody tr th {\n",
       "        vertical-align: top;\n",
       "    }\n",
       "\n",
       "    .dataframe thead th {\n",
       "        text-align: right;\n",
       "    }\n",
       "</style>\n",
       "<table border=\"1\" class=\"dataframe\">\n",
       "  <thead>\n",
       "    <tr style=\"text-align: right;\">\n",
       "      <th></th>\n",
       "      <th>ID</th>\n",
       "      <th>CRIM</th>\n",
       "      <th>ZN</th>\n",
       "      <th>INDUS</th>\n",
       "      <th>RIVER_FLG</th>\n",
       "      <th>nitric oxides concentration</th>\n",
       "      <th>#rooms/dwelling</th>\n",
       "      <th>AGE</th>\n",
       "      <th>DIS</th>\n",
       "      <th>RAD</th>\n",
       "      <th>TAX</th>\n",
       "      <th>PTRATIO</th>\n",
       "      <th>B</th>\n",
       "      <th>LSTAT</th>\n",
       "      <th>MEDV</th>\n",
       "    </tr>\n",
       "  </thead>\n",
       "  <tbody>\n",
       "    <tr>\n",
       "      <th>count</th>\n",
       "      <td>350.000000</td>\n",
       "      <td>350.000000</td>\n",
       "      <td>350.000000</td>\n",
       "      <td>350.000000</td>\n",
       "      <td>350.000000</td>\n",
       "      <td>350.000000</td>\n",
       "      <td>350.000000</td>\n",
       "      <td>350.000000</td>\n",
       "      <td>350.000000</td>\n",
       "      <td>350.000000</td>\n",
       "      <td>350.000000</td>\n",
       "      <td>350.000000</td>\n",
       "      <td>350.000000</td>\n",
       "      <td>350.000000</td>\n",
       "      <td>350.000000</td>\n",
       "    </tr>\n",
       "    <tr>\n",
       "      <th>mean</th>\n",
       "      <td>175.500000</td>\n",
       "      <td>0.404963</td>\n",
       "      <td>15.257143</td>\n",
       "      <td>8.436498</td>\n",
       "      <td>0.077143</td>\n",
       "      <td>0.510684</td>\n",
       "      <td>6.396922</td>\n",
       "      <td>60.867446</td>\n",
       "      <td>4.402082</td>\n",
       "      <td>4.482857</td>\n",
       "      <td>310.274286</td>\n",
       "      <td>17.702000</td>\n",
       "      <td>379.876775</td>\n",
       "      <td>10.421892</td>\n",
       "      <td>25.129723</td>\n",
       "    </tr>\n",
       "    <tr>\n",
       "      <th>std</th>\n",
       "      <td>101.180532</td>\n",
       "      <td>0.651082</td>\n",
       "      <td>25.607566</td>\n",
       "      <td>6.044201</td>\n",
       "      <td>0.267200</td>\n",
       "      <td>0.103476</td>\n",
       "      <td>0.719591</td>\n",
       "      <td>28.566625</td>\n",
       "      <td>1.971886</td>\n",
       "      <td>1.607109</td>\n",
       "      <td>67.661548</td>\n",
       "      <td>2.198807</td>\n",
       "      <td>41.982531</td>\n",
       "      <td>5.915906</td>\n",
       "      <td>8.617897</td>\n",
       "    </tr>\n",
       "    <tr>\n",
       "      <th>min</th>\n",
       "      <td>1.000000</td>\n",
       "      <td>0.006130</td>\n",
       "      <td>0.000000</td>\n",
       "      <td>0.450800</td>\n",
       "      <td>0.000000</td>\n",
       "      <td>0.374300</td>\n",
       "      <td>4.728960</td>\n",
       "      <td>2.871000</td>\n",
       "      <td>1.255520</td>\n",
       "      <td>1.000000</td>\n",
       "      <td>188.000000</td>\n",
       "      <td>12.600000</td>\n",
       "      <td>69.384000</td>\n",
       "      <td>1.799200</td>\n",
       "      <td>12.319000</td>\n",
       "    </tr>\n",
       "    <tr>\n",
       "      <th>25%</th>\n",
       "      <td>88.250000</td>\n",
       "      <td>0.058786</td>\n",
       "      <td>0.000000</td>\n",
       "      <td>4.019625</td>\n",
       "      <td>0.000000</td>\n",
       "      <td>0.441527</td>\n",
       "      <td>5.931550</td>\n",
       "      <td>35.149500</td>\n",
       "      <td>2.723105</td>\n",
       "      <td>4.000000</td>\n",
       "      <td>264.000000</td>\n",
       "      <td>16.100000</td>\n",
       "      <td>375.525275</td>\n",
       "      <td>6.109200</td>\n",
       "      <td>19.692750</td>\n",
       "    </tr>\n",
       "    <tr>\n",
       "      <th>50%</th>\n",
       "      <td>175.500000</td>\n",
       "      <td>0.132758</td>\n",
       "      <td>0.000000</td>\n",
       "      <td>6.448000</td>\n",
       "      <td>0.000000</td>\n",
       "      <td>0.489425</td>\n",
       "      <td>6.276270</td>\n",
       "      <td>62.019500</td>\n",
       "      <td>4.108295</td>\n",
       "      <td>4.000000</td>\n",
       "      <td>304.000000</td>\n",
       "      <td>17.900000</td>\n",
       "      <td>387.009300</td>\n",
       "      <td>9.393150</td>\n",
       "      <td>22.728500</td>\n",
       "    </tr>\n",
       "    <tr>\n",
       "      <th>75%</th>\n",
       "      <td>262.750000</td>\n",
       "      <td>0.411469</td>\n",
       "      <td>22.000000</td>\n",
       "      <td>10.263600</td>\n",
       "      <td>0.000000</td>\n",
       "      <td>0.542917</td>\n",
       "      <td>6.746752</td>\n",
       "      <td>88.151000</td>\n",
       "      <td>5.750662</td>\n",
       "      <td>5.000000</td>\n",
       "      <td>358.000000</td>\n",
       "      <td>19.100000</td>\n",
       "      <td>400.156950</td>\n",
       "      <td>13.245100</td>\n",
       "      <td>28.523250</td>\n",
       "    </tr>\n",
       "    <tr>\n",
       "      <th>max</th>\n",
       "      <td>350.000000</td>\n",
       "      <td>4.261296</td>\n",
       "      <td>100.000000</td>\n",
       "      <td>26.676000</td>\n",
       "      <td>1.000000</td>\n",
       "      <td>0.914550</td>\n",
       "      <td>8.986750</td>\n",
       "      <td>105.000000</td>\n",
       "      <td>9.555104</td>\n",
       "      <td>8.000000</td>\n",
       "      <td>469.000000</td>\n",
       "      <td>21.200000</td>\n",
       "      <td>416.745000</td>\n",
       "      <td>33.033600</td>\n",
       "      <td>52.500000</td>\n",
       "    </tr>\n",
       "  </tbody>\n",
       "</table>\n",
       "</div>"
      ],
      "text/plain": [
       "               ID        CRIM          ZN       INDUS   RIVER_FLG  \\\n",
       "count  350.000000  350.000000  350.000000  350.000000  350.000000   \n",
       "mean   175.500000    0.404963   15.257143    8.436498    0.077143   \n",
       "std    101.180532    0.651082   25.607566    6.044201    0.267200   \n",
       "min      1.000000    0.006130    0.000000    0.450800    0.000000   \n",
       "25%     88.250000    0.058786    0.000000    4.019625    0.000000   \n",
       "50%    175.500000    0.132758    0.000000    6.448000    0.000000   \n",
       "75%    262.750000    0.411469   22.000000   10.263600    0.000000   \n",
       "max    350.000000    4.261296  100.000000   26.676000    1.000000   \n",
       "\n",
       "       nitric oxides concentration  #rooms/dwelling         AGE         DIS  \\\n",
       "count                   350.000000       350.000000  350.000000  350.000000   \n",
       "mean                      0.510684         6.396922   60.867446    4.402082   \n",
       "std                       0.103476         0.719591   28.566625    1.971886   \n",
       "min                       0.374300         4.728960    2.871000    1.255520   \n",
       "25%                       0.441527         5.931550   35.149500    2.723105   \n",
       "50%                       0.489425         6.276270   62.019500    4.108295   \n",
       "75%                       0.542917         6.746752   88.151000    5.750662   \n",
       "max                       0.914550         8.986750  105.000000    9.555104   \n",
       "\n",
       "              RAD         TAX   PTRATIO             B       LSTAT        MEDV  \n",
       "count  350.000000  350.000000  350.000000  350.000000  350.000000  350.000000  \n",
       "mean     4.482857  310.274286   17.702000  379.876775   10.421892   25.129723  \n",
       "std      1.607109   67.661548    2.198807   41.982531    5.915906    8.617897  \n",
       "min      1.000000  188.000000   12.600000   69.384000    1.799200   12.319000  \n",
       "25%      4.000000  264.000000   16.100000  375.525275    6.109200   19.692750  \n",
       "50%      4.000000  304.000000   17.900000  387.009300    9.393150   22.728500  \n",
       "75%      5.000000  358.000000   19.100000  400.156950   13.245100   28.523250  \n",
       "max      8.000000  469.000000   21.200000  416.745000   33.033600   52.500000  "
      ]
     },
     "execution_count": 11,
     "metadata": {},
     "output_type": "execute_result"
    }
   ],
   "source": [
    "train.describe()"
   ]
  },
  {
   "cell_type": "code",
   "execution_count": 4,
   "id": "b5dda386",
   "metadata": {},
   "outputs": [],
   "source": [
    "import seaborn as sns\n",
    "import matplotlib.pyplot as plt\n",
    "%matplotlib inline"
   ]
  },
  {
   "cell_type": "code",
   "execution_count": 13,
   "id": "6da0d3fb",
   "metadata": {},
   "outputs": [
    {
     "name": "stderr",
     "output_type": "stream",
     "text": [
      "C:\\Users\\rajes\\anaconda3\\lib\\site-packages\\seaborn\\distributions.py:2557: FutureWarning: `distplot` is a deprecated function and will be removed in a future version. Please adapt your code to use either `displot` (a figure-level function with similar flexibility) or `histplot` (an axes-level function for histograms).\n",
      "  warnings.warn(msg, FutureWarning)\n"
     ]
    },
    {
     "data": {
      "text/plain": [
       "<AxesSubplot:xlabel='MEDV', ylabel='Density'>"
      ]
     },
     "execution_count": 13,
     "metadata": {},
     "output_type": "execute_result"
    },
    {
     "data": {
      "image/png": "[encoded data removed]",
      "text/plain": [
       "<Figure size 432x288 with 1 Axes>"
      ]
     },
     "metadata": {
      "needs_background": "light"
     },
     "output_type": "display_data"
    }
   ],
   "source": [
    "sns.distplot(train['MEDV'])"
   ]
  },
  {
   "cell_type": "code",
   "execution_count": 14,
   "id": "66ae1049",
   "metadata": {},
   "outputs": [
    {
     "data": {
      "text/plain": [
       "<seaborn.axisgrid.JointGrid at 0x174d0c28670>"
      ]
     },
     "execution_count": 14,
     "metadata": {},
     "output_type": "execute_result"
    },
    {
     "data": {
      "image/png": "[encoded data removed]",
      "text/plain": [
       "<Figure size 432x432 with 3 Axes>"
      ]
     },
     "metadata": {
      "needs_background": "light"
     },
     "output_type": "display_data"
    }
   ],
   "source": [
    "sns.jointplot(x='CRIM',y='MEDV',data=train,kind='scatter')"
   ]
  },
  {
   "cell_type": "code",
   "execution_count": 15,
   "id": "fa25ecc8",
   "metadata": {},
   "outputs": [
    {
     "data": {
      "text/plain": [
       "<seaborn.axisgrid.JointGrid at 0x174d0cffbb0>"
      ]
     },
     "execution_count": 15,
     "metadata": {},
     "output_type": "execute_result"
    },
    {
     "data": {
      "image/png": "[encoded data removed]",
      "text/plain": [
       "<Figure size 432x432 with 3 Axes>"
      ]
     },
     "metadata": {
      "needs_background": "light"
     },
     "output_type": "display_data"
    }
   ],
   "source": [
    "sns.jointplot(x='nitric oxides concentration',y='MEDV',data=train,kind='scatter')"
   ]
  },
  {
   "cell_type": "code",
   "execution_count": 16,
   "id": "4e012e0b",
   "metadata": {},
   "outputs": [
    {
     "data": {
      "text/plain": [
       "<AxesSubplot:>"
      ]
     },
     "execution_count": 16,
     "metadata": {},
     "output_type": "execute_result"
    },
    {
     "data": {
      "image/png": "[encoded data removed]",
      "text/plain": [
       "<Figure size 432x288 with 1 Axes>"
      ]
     },
     "metadata": {
      "needs_background": "light"
     },
     "output_type": "display_data"
    }
   ],
   "source": [
    "sns.boxplot(data=train,palette='rainbow',orient='h')"
   ]
  },
  {
   "cell_type": "code",
   "execution_count": 17,
   "id": "9da363a4",
   "metadata": {},
   "outputs": [
    {
     "data": {
      "text/plain": [
       "<AxesSubplot:>"
      ]
     },
     "execution_count": 17,
     "metadata": {},
     "output_type": "execute_result"
    },
    {
     "data": {
      "image/png": "[encoded data removed]",
      "text/plain": [
       "<Figure size 432x288 with 1 Axes>"
      ]
     },
     "metadata": {
      "needs_background": "light"
     },
     "output_type": "display_data"
    }
   ],
   "source": [
    "sns.boxplot(data=(train['CRIM'],train['MEDV'],train['INDUS']),palette='rainbow',orient='h')"
   ]
  },
  {
   "cell_type": "code",
   "execution_count": 18,
   "id": "078da3f8",
   "metadata": {},
   "outputs": [
    {
     "data": {
      "image/png": "[encoded data removed]",
      "text/plain": [
       "<Figure size 432x432 with 3 Axes>"
      ]
     },
     "metadata": {
      "needs_background": "light"
     },
     "output_type": "display_data"
    }
   ],
   "source": [
    "g = sns.JointGrid(x=\"MEDV\", y=\"CRIM\", data=train)"
   ]
  },
  {
   "cell_type": "code",
   "execution_count": 19,
   "id": "cc83d2fe",
   "metadata": {},
   "outputs": [
    {
     "name": "stderr",
     "output_type": "stream",
     "text": [
      "C:\\Users\\rajes\\anaconda3\\lib\\site-packages\\seaborn\\distributions.py:2557: FutureWarning: `distplot` is a deprecated function and will be removed in a future version. Please adapt your code to use either `displot` (a figure-level function with similar flexibility) or `histplot` (an axes-level function for histograms).\n",
      "  warnings.warn(msg, FutureWarning)\n",
      "C:\\Users\\rajes\\anaconda3\\lib\\site-packages\\seaborn\\distributions.py:2557: FutureWarning: `distplot` is a deprecated function and will be removed in a future version. Please adapt your code to use either `displot` (a figure-level function with similar flexibility) or `histplot` (an axes-level function for histograms).\n",
      "  warnings.warn(msg, FutureWarning)\n",
      "C:\\Users\\rajes\\anaconda3\\lib\\site-packages\\seaborn\\distributions.py:1647: FutureWarning: The `vertical` parameter is deprecated and will be removed in a future version. Assign the data to the `y` variable instead.\n",
      "  warnings.warn(msg, FutureWarning)\n"
     ]
    },
    {
     "data": {
      "image/png": "[encoded data removed]",
      "text/plain": [
       "<Figure size 432x432 with 3 Axes>"
      ]
     },
     "metadata": {
      "needs_background": "light"
     },
     "output_type": "display_data"
    }
   ],
   "source": [
    "g = sns.JointGrid(x=\"CRIM\", y=\"MEDV\", data=train)\n",
    "g = g.plot(sns.regplot, sns.distplot)"
   ]
  },
  {
   "cell_type": "code",
   "execution_count": 20,
   "id": "bbb20713",
   "metadata": {},
   "outputs": [
    {
     "name": "stderr",
     "output_type": "stream",
     "text": [
      "C:\\Users\\rajes\\anaconda3\\lib\\site-packages\\seaborn\\regression.py:580: UserWarning: The `size` parameter has been renamed to `height`; please update your code.\n",
      "  warnings.warn(msg, UserWarning)\n"
     ]
    },
    {
     "data": {
      "text/plain": [
       "<seaborn.axisgrid.FacetGrid at 0x174d1386a00>"
      ]
     },
     "execution_count": 20,
     "metadata": {},
     "output_type": "execute_result"
    },
    {
     "data": {
      "image/png": "[encoded data removed]",
      "text/plain": [
       "<Figure size 576x144 with 1 Axes>"
      ]
     },
     "metadata": {
      "needs_background": "light"
     },
     "output_type": "display_data"
    }
   ],
   "source": [
    "sns.lmplot(x='CRIM',y='MEDV',size=2,aspect=4,data=train)"
   ]
  },
  {
   "cell_type": "code",
   "execution_count": 21,
   "id": "44bbf2bf",
   "metadata": {},
   "outputs": [
    {
     "name": "stderr",
     "output_type": "stream",
     "text": [
      "C:\\Users\\rajes\\anaconda3\\lib\\site-packages\\seaborn\\regression.py:580: UserWarning: The `size` parameter has been renamed to `height`; please update your code.\n",
      "  warnings.warn(msg, UserWarning)\n"
     ]
    },
    {
     "data": {
      "text/plain": [
       "<seaborn.axisgrid.FacetGrid at 0x174d1427eb0>"
      ]
     },
     "execution_count": 21,
     "metadata": {},
     "output_type": "execute_result"
    },
    {
     "data": {
      "image/png": "[encoded data removed]",
      "text/plain": [
       "<Figure size 576x144 with 1 Axes>"
      ]
     },
     "metadata": {
      "needs_background": "light"
     },
     "output_type": "display_data"
    }
   ],
   "source": [
    "sns.lmplot(x='#rooms/dwelling',y='MEDV',size=2,aspect=4,data=train)"
   ]
  },
  {
   "cell_type": "code",
   "execution_count": 22,
   "id": "ad6477e1",
   "metadata": {},
   "outputs": [
    {
     "name": "stderr",
     "output_type": "stream",
     "text": [
      "C:\\Users\\rajes\\anaconda3\\lib\\site-packages\\seaborn\\regression.py:580: UserWarning: The `size` parameter has been renamed to `height`; please update your code.\n",
      "  warnings.warn(msg, UserWarning)\n"
     ]
    },
    {
     "data": {
      "text/plain": [
       "<seaborn.axisgrid.FacetGrid at 0x174d148c130>"
      ]
     },
     "execution_count": 22,
     "metadata": {},
     "output_type": "execute_result"
    },
    {
     "data": {
      "image/png": "[encoded data removed]",
      "text/plain": [
       "<Figure size 576x144 with 1 Axes>"
      ]
     },
     "metadata": {
      "needs_background": "light"
     },
     "output_type": "display_data"
    }
   ],
   "source": [
    "sns.lmplot(x='AGE',y='MEDV',size=2,aspect=4,data=train)"
   ]
  },
  {
   "cell_type": "code",
   "execution_count": 23,
   "id": "0e86396b",
   "metadata": {},
   "outputs": [
    {
     "name": "stderr",
     "output_type": "stream",
     "text": [
      "C:\\Users\\rajes\\anaconda3\\lib\\site-packages\\seaborn\\regression.py:580: UserWarning: The `size` parameter has been renamed to `height`; please update your code.\n",
      "  warnings.warn(msg, UserWarning)\n"
     ]
    },
    {
     "data": {
      "text/plain": [
       "<seaborn.axisgrid.FacetGrid at 0x174cfb28c40>"
      ]
     },
     "execution_count": 23,
     "metadata": {},
     "output_type": "execute_result"
    },
    {
     "data": {
      "image/png": "[encoded data removed]",
      "text/plain": [
       "<Figure size 576x144 with 1 Axes>"
      ]
     },
     "metadata": {
      "needs_background": "light"
     },
     "output_type": "display_data"
    }
   ],
   "source": [
    "sns.lmplot(x='DIS',y='MEDV',size=2,aspect=4,data=train)"
   ]
  },
  {
   "cell_type": "code",
   "execution_count": 24,
   "id": "7a65cf9a",
   "metadata": {},
   "outputs": [
    {
     "name": "stderr",
     "output_type": "stream",
     "text": [
      "C:\\Users\\rajes\\anaconda3\\lib\\site-packages\\seaborn\\regression.py:580: UserWarning: The `size` parameter has been renamed to `height`; please update your code.\n",
      "  warnings.warn(msg, UserWarning)\n"
     ]
    },
    {
     "data": {
      "text/plain": [
       "<seaborn.axisgrid.FacetGrid at 0x174d12c41f0>"
      ]
     },
     "execution_count": 24,
     "metadata": {},
     "output_type": "execute_result"
    },
    {
     "data": {
      "image/png": "[encoded data removed]",
      "text/plain": [
       "<Figure size 576x144 with 1 Axes>"
      ]
     },
     "metadata": {
      "needs_background": "light"
     },
     "output_type": "display_data"
    }
   ],
   "source": [
    "#PTRATIO\n",
    "sns.lmplot(x='B',y='MEDV',size=2,aspect=4,data=train)"
   ]
  },
  {
   "cell_type": "code",
   "execution_count": 25,
   "id": "d5e89619",
   "metadata": {},
   "outputs": [
    {
     "name": "stderr",
     "output_type": "stream",
     "text": [
      "C:\\Users\\rajes\\anaconda3\\lib\\site-packages\\seaborn\\regression.py:580: UserWarning: The `size` parameter has been renamed to `height`; please update your code.\n",
      "  warnings.warn(msg, UserWarning)\n"
     ]
    },
    {
     "data": {
      "text/plain": [
       "<seaborn.axisgrid.FacetGrid at 0x174d159dfa0>"
      ]
     },
     "execution_count": 25,
     "metadata": {},
     "output_type": "execute_result"
    },
    {
     "data": {
      "image/png": "[encoded data removed]",
      "text/plain": [
       "<Figure size 576x144 with 1 Axes>"
      ]
     },
     "metadata": {
      "needs_background": "light"
     },
     "output_type": "display_data"
    }
   ],
   "source": [
    "sns.lmplot(x='LSTAT',y='MEDV',size=2,aspect=4,data=train)"
   ]
  },
  {
   "cell_type": "code",
   "execution_count": 22,
   "id": "487c3bf6",
   "metadata": {},
   "outputs": [
    {
     "data": {
      "image/png": "[encoded data removed]",
      "text/plain": [
       "<Figure size 432x288 with 2 Axes>"
      ]
     },
     "metadata": {
      "needs_background": "light"
     },
     "output_type": "display_data"
    }
   ],
   "source": [
    "plt.subplot(1, 2, 1) \n",
    "\n",
    "plt.scatter(train['LSTAT'], train['MEDV'], color='b')\n",
    "plt.title('MEDV v/s LSTAT')\n",
    "plt.subplot(1, 2, 2)\n",
    "\n",
    "plt.boxplot(train['LSTAT'])\n",
    "plt.title('LSTAT Box Plot')\n",
    "\n",
    "plt.tight_layout()\n",
    "plt.show()"
   ]
  },
  {
   "cell_type": "code",
   "execution_count": 26,
   "id": "18089fa7",
   "metadata": {},
   "outputs": [
    {
     "data": {
      "image/png": "[encoded data removed]",
      "text/plain": [
       "<Figure size 432x288 with 2 Axes>"
      ]
     },
     "metadata": {
      "needs_background": "light"
     },
     "output_type": "display_data"
    }
   ],
   "source": [
    "plt.subplot(1, 2, 1) \n",
    "\n",
    "plt.scatter(train['AGE'], train['MEDV'], color='b')\n",
    "plt.title('MEDV v/s AGE')\n",
    "plt.subplot(1, 2, 2)\n",
    "\n",
    "plt.boxplot(train['AGE'])\n",
    "plt.title('AGE Box Plot')\n",
    "\n",
    "plt.tight_layout()\n",
    "plt.show()"
   ]
  },
  {
   "cell_type": "code",
   "execution_count": 27,
   "id": "f23b4da1",
   "metadata": {},
   "outputs": [
    {
     "data": {
      "image/png": "[encoded data removed]",
      "text/plain": [
       "<Figure size 432x288 with 2 Axes>"
      ]
     },
     "metadata": {
      "needs_background": "light"
     },
     "output_type": "display_data"
    }
   ],
   "source": [
    "plt.subplot(1, 2, 1) \n",
    "\n",
    "plt.scatter(train['#rooms/dwelling'], train['MEDV'], color='b')\n",
    "plt.title('MEDV v/s #rooms/dwelling')\n",
    "plt.subplot(1, 2, 2)\n",
    "\n",
    "plt.boxplot(train['#rooms/dwelling'])\n",
    "plt.title('#rooms/dwelling Box Plot')\n",
    "\n",
    "plt.tight_layout()\n",
    "plt.show()"
   ]
  },
  {
   "cell_type": "code",
   "execution_count": 28,
   "id": "0b716f1f",
   "metadata": {},
   "outputs": [
    {
     "data": {
      "image/png": "[encoded data removed]",
      "text/plain": [
       "<Figure size 432x288 with 2 Axes>"
      ]
     },
     "metadata": {
      "needs_background": "light"
     },
     "output_type": "display_data"
    }
   ],
   "source": [
    "plt.subplot(1, 2, 1) \n",
    "\n",
    "plt.scatter(train['CRIM'], train['MEDV'], color='b')\n",
    "plt.title('MEDV v/s CRIM')\n",
    "plt.subplot(1, 2, 2)\n",
    "\n",
    "plt.boxplot(train['CRIM'])\n",
    "plt.title('CRIM Box Plot')\n",
    "\n",
    "plt.tight_layout()\n",
    "plt.show()"
   ]
  },
  {
   "cell_type": "markdown",
   "id": "fed8e523",
   "metadata": {},
   "source": [
    "#Outliers - Identify and Impute ALL Columns"
   ]
  },
  {
   "cell_type": "code",
   "execution_count": 5,
   "id": "4a78cb7a",
   "metadata": {},
   "outputs": [
    {
     "data": {
      "text/plain": [
       "['CRIM',\n",
       " 'ZN',\n",
       " 'INDUS',\n",
       " 'RIVER_FLG',\n",
       " 'nitric oxides concentration',\n",
       " '#rooms/dwelling',\n",
       " 'PTRATIO  ',\n",
       " 'B']"
      ]
     },
     "execution_count": 5,
     "metadata": {},
     "output_type": "execute_result"
    }
   ],
   "source": [
    "numerical_features = [feature for feature in train.columns if train[feature].dtypes in ['float64','int64'] and feature !='ID' and feature !='MEDV' and feature !='AGE' and feature !='DIS' and feature !='RAD' and feature !='TAX' and feature !='PTRATIO' and feature !='LSTAT']\n",
    "numerical_features"
   ]
  },
  {
   "cell_type": "code",
   "execution_count": 6,
   "id": "87e81b8f",
   "metadata": {},
   "outputs": [],
   "source": [
    "for feat in numerical_features:\n",
    "    Q1 = train[feat].quantile(0.25)\n",
    "    Q3 = train[feat].quantile(0.75)\n",
    "\n",
    "    IQR = Q3 - Q1\n",
    "\n",
    "    Lower_Whisker = Q1 - 1.5 * IQR\n",
    "    Upper_Whisker = Q3 + 1.5 * IQR\n",
    "    \n",
    "    train[feat] = train[feat].apply(lambda x : Upper_Whisker if x > Upper_Whisker else x)\n",
    "    train[feat] = train[feat].apply(lambda x : Lower_Whisker if x < Lower_Whisker else x)"
   ]
  },
  {
   "cell_type": "code",
   "execution_count": 7,
   "id": "e5ddef77",
   "metadata": {},
   "outputs": [
    {
     "data": {
      "text/plain": [
       "<AxesSubplot:>"
      ]
     },
     "execution_count": 7,
     "metadata": {},
     "output_type": "execute_result"
    },
    {
     "data": {
      "image/png": "[encoded data removed]",
      "text/plain": [
       "<Figure size 1296x360 with 1 Axes>"
      ]
     },
     "metadata": {
      "needs_background": "light"
     },
     "output_type": "display_data"
    }
   ],
   "source": [
    "train[['CRIM',\n",
    " 'ZN',\n",
    " 'INDUS',\n",
    " 'RIVER_FLG',\n",
    " 'nitric oxides concentration',\n",
    " '#rooms/dwelling',\n",
    " 'PTRATIO  ',\n",
    " 'B']].plot.box(figsize=(18,5))"
   ]
  },
  {
   "cell_type": "code",
   "execution_count": 8,
   "id": "e5c1af5c",
   "metadata": {},
   "outputs": [
    {
     "data": {
      "text/plain": [
       "['CRIM',\n",
       " 'ZN',\n",
       " 'INDUS',\n",
       " 'RIVER_FLG',\n",
       " 'nitric oxides concentration',\n",
       " '#rooms/dwelling',\n",
       " 'PTRATIO  ',\n",
       " 'B']"
      ]
     },
     "execution_count": 8,
     "metadata": {},
     "output_type": "execute_result"
    }
   ],
   "source": [
    "numerical_features = [feature for feature in test.columns if test[feature].dtypes in ['float64','int64'] and feature !='ID' and feature !='AGE' and feature !='DIS' and feature !='RAD' and feature !='TAX' and feature !='PTRATIO' and feature !='LSTAT']\n",
    "numerical_features"
   ]
  },
  {
   "cell_type": "code",
   "execution_count": 9,
   "id": "10479a45",
   "metadata": {},
   "outputs": [],
   "source": [
    "for feat in numerical_features:\n",
    "    Q1 = test[feat].quantile(0.25)\n",
    "    Q3 = test[feat].quantile(0.75)\n",
    "\n",
    "    IQR = Q3 - Q1\n",
    "\n",
    "    Lower_Whisker = Q1 - 1.5 * IQR\n",
    "    Upper_Whisker = Q3 + 1.5 * IQR\n",
    "    \n",
    "    test[feat] = test[feat].apply(lambda x : Upper_Whisker if x > Upper_Whisker else x)\n",
    "    test[feat] = test[feat].apply(lambda x : Lower_Whisker if x < Lower_Whisker else x)"
   ]
  },
  {
   "cell_type": "code",
   "execution_count": 10,
   "id": "48311f12",
   "metadata": {},
   "outputs": [
    {
     "data": {
      "text/plain": [
       "<AxesSubplot:>"
      ]
     },
     "execution_count": 10,
     "metadata": {},
     "output_type": "execute_result"
    },
    {
     "data": {
      "image/png": "[encoded data removed]",
      "text/plain": [
       "<Figure size 1296x360 with 1 Axes>"
      ]
     },
     "metadata": {
      "needs_background": "light"
     },
     "output_type": "display_data"
    }
   ],
   "source": [
    "test[['CRIM',\n",
    " 'ZN',\n",
    " 'INDUS',\n",
    " 'RIVER_FLG',\n",
    " 'nitric oxides concentration',\n",
    " '#rooms/dwelling',\n",
    " 'PTRATIO  ',\n",
    " 'B']].plot.box(figsize=(18,5))"
   ]
  },
  {
   "cell_type": "markdown",
   "id": "ed16643e",
   "metadata": {},
   "source": [
    "#Divide Data into X and y"
   ]
  },
  {
   "cell_type": "code",
   "execution_count": 11,
   "id": "ea4b51ac",
   "metadata": {},
   "outputs": [],
   "source": [
    "y_train = train['MEDV']\n",
    "\n",
    "X_train = train.drop(['ID', 'MEDV'], axis = 1)"
   ]
  },
  {
   "cell_type": "code",
   "execution_count": 12,
   "id": "dfbc0575",
   "metadata": {},
   "outputs": [
    {
     "data": {
      "text/html": [
       "<div>\n",
       "<style scoped>\n",
       "    .dataframe tbody tr th:only-of-type {\n",
       "        vertical-align: middle;\n",
       "    }\n",
       "\n",
       "    .dataframe tbody tr th {\n",
       "        vertical-align: top;\n",
       "    }\n",
       "\n",
       "    .dataframe thead th {\n",
       "        text-align: right;\n",
       "    }\n",
       "</style>\n",
       "<table border=\"1\" class=\"dataframe\">\n",
       "  <thead>\n",
       "    <tr style=\"text-align: right;\">\n",
       "      <th></th>\n",
       "      <th>CRIM</th>\n",
       "      <th>ZN</th>\n",
       "      <th>INDUS</th>\n",
       "      <th>RIVER_FLG</th>\n",
       "      <th>nitric oxides concentration</th>\n",
       "      <th>#rooms/dwelling</th>\n",
       "      <th>AGE</th>\n",
       "      <th>DIS</th>\n",
       "      <th>RAD</th>\n",
       "      <th>TAX</th>\n",
       "      <th>PTRATIO</th>\n",
       "      <th>B</th>\n",
       "      <th>LSTAT</th>\n",
       "    </tr>\n",
       "  </thead>\n",
       "  <tbody>\n",
       "    <tr>\n",
       "      <th>0</th>\n",
       "      <td>0.006130</td>\n",
       "      <td>18.0</td>\n",
       "      <td>2.3562</td>\n",
       "      <td>0.0</td>\n",
       "      <td>0.51648</td>\n",
       "      <td>6.31200</td>\n",
       "      <td>64.548</td>\n",
       "      <td>4.090000</td>\n",
       "      <td>1</td>\n",
       "      <td>296</td>\n",
       "      <td>15.3</td>\n",
       "      <td>404.8380</td>\n",
       "      <td>4.8804</td>\n",
       "    </tr>\n",
       "    <tr>\n",
       "      <th>1</th>\n",
       "      <td>0.027037</td>\n",
       "      <td>0.0</td>\n",
       "      <td>6.8579</td>\n",
       "      <td>0.0</td>\n",
       "      <td>0.48776</td>\n",
       "      <td>6.74205</td>\n",
       "      <td>81.267</td>\n",
       "      <td>5.165784</td>\n",
       "      <td>2</td>\n",
       "      <td>242</td>\n",
       "      <td>17.8</td>\n",
       "      <td>416.7450</td>\n",
       "      <td>9.4142</td>\n",
       "    </tr>\n",
       "    <tr>\n",
       "      <th>2</th>\n",
       "      <td>0.028109</td>\n",
       "      <td>0.0</td>\n",
       "      <td>6.9286</td>\n",
       "      <td>0.0</td>\n",
       "      <td>0.45962</td>\n",
       "      <td>7.40055</td>\n",
       "      <td>61.711</td>\n",
       "      <td>4.967100</td>\n",
       "      <td>2</td>\n",
       "      <td>242</td>\n",
       "      <td>17.8</td>\n",
       "      <td>396.7583</td>\n",
       "      <td>4.0703</td>\n",
       "    </tr>\n",
       "    <tr>\n",
       "      <th>3</th>\n",
       "      <td>0.033341</td>\n",
       "      <td>0.0</td>\n",
       "      <td>2.2454</td>\n",
       "      <td>0.0</td>\n",
       "      <td>0.44426</td>\n",
       "      <td>7.34790</td>\n",
       "      <td>45.342</td>\n",
       "      <td>6.001578</td>\n",
       "      <td>3</td>\n",
       "      <td>222</td>\n",
       "      <td>18.7</td>\n",
       "      <td>406.4689</td>\n",
       "      <td>2.9400</td>\n",
       "    </tr>\n",
       "    <tr>\n",
       "      <th>4</th>\n",
       "      <td>0.072502</td>\n",
       "      <td>0.0</td>\n",
       "      <td>2.1800</td>\n",
       "      <td>0.0</td>\n",
       "      <td>0.47632</td>\n",
       "      <td>7.14700</td>\n",
       "      <td>53.658</td>\n",
       "      <td>5.819712</td>\n",
       "      <td>3</td>\n",
       "      <td>222</td>\n",
       "      <td>18.7</td>\n",
       "      <td>388.9620</td>\n",
       "      <td>5.3833</td>\n",
       "    </tr>\n",
       "  </tbody>\n",
       "</table>\n",
       "</div>"
      ],
      "text/plain": [
       "       CRIM    ZN   INDUS  RIVER_FLG  nitric oxides concentration  \\\n",
       "0  0.006130  18.0  2.3562        0.0                      0.51648   \n",
       "1  0.027037   0.0  6.8579        0.0                      0.48776   \n",
       "2  0.028109   0.0  6.9286        0.0                      0.45962   \n",
       "3  0.033341   0.0  2.2454        0.0                      0.44426   \n",
       "4  0.072502   0.0  2.1800        0.0                      0.47632   \n",
       "\n",
       "   #rooms/dwelling     AGE       DIS  RAD  TAX  PTRATIO           B   LSTAT  \n",
       "0          6.31200  64.548  4.090000    1  296       15.3  404.8380  4.8804  \n",
       "1          6.74205  81.267  5.165784    2  242       17.8  416.7450  9.4142  \n",
       "2          7.40055  61.711  4.967100    2  242       17.8  396.7583  4.0703  \n",
       "3          7.34790  45.342  6.001578    3  222       18.7  406.4689  2.9400  \n",
       "4          7.14700  53.658  5.819712    3  222       18.7  388.9620  5.3833  "
      ]
     },
     "execution_count": 12,
     "metadata": {},
     "output_type": "execute_result"
    }
   ],
   "source": [
    "X_train.head()"
   ]
  },
  {
   "cell_type": "code",
   "execution_count": 13,
   "id": "6e7b6e02",
   "metadata": {},
   "outputs": [],
   "source": [
    "X_test = test.drop(['ID'], axis = 1)"
   ]
  },
  {
   "cell_type": "code",
   "execution_count": 14,
   "id": "5b428028",
   "metadata": {},
   "outputs": [
    {
     "data": {
      "text/html": [
       "<div>\n",
       "<style scoped>\n",
       "    .dataframe tbody tr th:only-of-type {\n",
       "        vertical-align: middle;\n",
       "    }\n",
       "\n",
       "    .dataframe tbody tr th {\n",
       "        vertical-align: top;\n",
       "    }\n",
       "\n",
       "    .dataframe thead th {\n",
       "        text-align: right;\n",
       "    }\n",
       "</style>\n",
       "<table border=\"1\" class=\"dataframe\">\n",
       "  <thead>\n",
       "    <tr style=\"text-align: right;\">\n",
       "      <th></th>\n",
       "      <th>CRIM</th>\n",
       "      <th>ZN</th>\n",
       "      <th>INDUS</th>\n",
       "      <th>RIVER_FLG</th>\n",
       "      <th>nitric oxides concentration</th>\n",
       "      <th>#rooms/dwelling</th>\n",
       "      <th>AGE</th>\n",
       "      <th>DIS</th>\n",
       "      <th>RAD</th>\n",
       "      <th>TAX</th>\n",
       "      <th>PTRATIO</th>\n",
       "      <th>B</th>\n",
       "      <th>LSTAT</th>\n",
       "    </tr>\n",
       "  </thead>\n",
       "  <tbody>\n",
       "    <tr>\n",
       "      <th>0</th>\n",
       "      <td>9.693915</td>\n",
       "      <td>0.0</td>\n",
       "      <td>18.824</td>\n",
       "      <td>0.0</td>\n",
       "      <td>0.63731</td>\n",
       "      <td>6.02952</td>\n",
       "      <td>100.000</td>\n",
       "      <td>1.204173</td>\n",
       "      <td>24</td>\n",
       "      <td>666</td>\n",
       "      <td>20.2</td>\n",
       "      <td>347.8425</td>\n",
       "      <td>10.0065</td>\n",
       "    </tr>\n",
       "    <tr>\n",
       "      <th>1</th>\n",
       "      <td>5.143131</td>\n",
       "      <td>0.0</td>\n",
       "      <td>18.462</td>\n",
       "      <td>0.0</td>\n",
       "      <td>0.63731</td>\n",
       "      <td>4.97000</td>\n",
       "      <td>100.000</td>\n",
       "      <td>1.305850</td>\n",
       "      <td>24</td>\n",
       "      <td>666</td>\n",
       "      <td>20.2</td>\n",
       "      <td>356.7440</td>\n",
       "      <td>3.0970</td>\n",
       "    </tr>\n",
       "    <tr>\n",
       "      <th>2</th>\n",
       "      <td>6.407985</td>\n",
       "      <td>0.0</td>\n",
       "      <td>17.557</td>\n",
       "      <td>0.0</td>\n",
       "      <td>0.63100</td>\n",
       "      <td>7.01600</td>\n",
       "      <td>93.600</td>\n",
       "      <td>1.178352</td>\n",
       "      <td>24</td>\n",
       "      <td>666</td>\n",
       "      <td>20.2</td>\n",
       "      <td>380.2885</td>\n",
       "      <td>3.0192</td>\n",
       "    </tr>\n",
       "    <tr>\n",
       "      <th>3</th>\n",
       "      <td>8.267250</td>\n",
       "      <td>0.0</td>\n",
       "      <td>18.462</td>\n",
       "      <td>0.0</td>\n",
       "      <td>0.67468</td>\n",
       "      <td>6.16875</td>\n",
       "      <td>93.184</td>\n",
       "      <td>1.107008</td>\n",
       "      <td>24</td>\n",
       "      <td>666</td>\n",
       "      <td>20.2</td>\n",
       "      <td>354.8376</td>\n",
       "      <td>9.3240</td>\n",
       "    </tr>\n",
       "    <tr>\n",
       "      <th>4</th>\n",
       "      <td>5.726680</td>\n",
       "      <td>0.0</td>\n",
       "      <td>17.919</td>\n",
       "      <td>0.0</td>\n",
       "      <td>0.66255</td>\n",
       "      <td>6.95032</td>\n",
       "      <td>96.800</td>\n",
       "      <td>1.329566</td>\n",
       "      <td>24</td>\n",
       "      <td>666</td>\n",
       "      <td>20.2</td>\n",
       "      <td>364.0701</td>\n",
       "      <td>3.5808</td>\n",
       "    </tr>\n",
       "  </tbody>\n",
       "</table>\n",
       "</div>"
      ],
      "text/plain": [
       "       CRIM   ZN   INDUS  RIVER_FLG  nitric oxides concentration  \\\n",
       "0  9.693915  0.0  18.824        0.0                      0.63731   \n",
       "1  5.143131  0.0  18.462        0.0                      0.63731   \n",
       "2  6.407985  0.0  17.557        0.0                      0.63100   \n",
       "3  8.267250  0.0  18.462        0.0                      0.67468   \n",
       "4  5.726680  0.0  17.919        0.0                      0.66255   \n",
       "\n",
       "   #rooms/dwelling      AGE       DIS  RAD  TAX  PTRATIO           B    LSTAT  \n",
       "0          6.02952  100.000  1.204173   24  666       20.2  347.8425  10.0065  \n",
       "1          4.97000  100.000  1.305850   24  666       20.2  356.7440   3.0970  \n",
       "2          7.01600   93.600  1.178352   24  666       20.2  380.2885   3.0192  \n",
       "3          6.16875   93.184  1.107008   24  666       20.2  354.8376   9.3240  \n",
       "4          6.95032   96.800  1.329566   24  666       20.2  364.0701   3.5808  "
      ]
     },
     "execution_count": 14,
     "metadata": {},
     "output_type": "execute_result"
    }
   ],
   "source": [
    "X_test.head()"
   ]
  },
  {
   "cell_type": "code",
   "execution_count": 59,
   "id": "c631d6d6",
   "metadata": {},
   "outputs": [
    {
     "ename": "NameError",
     "evalue": "name 'y_test' is not defined",
     "output_type": "error",
     "traceback": [
      "\u001b[1;31m---------------------------------------------------------------------------\u001b[0m",
      "\u001b[1;31mNameError\u001b[0m                                 Traceback (most recent call last)",
      "\u001b[1;32m<ipython-input-59-9a54a0814dd1>\u001b[0m in \u001b[0;36m<module>\u001b[1;34m\u001b[0m\n\u001b[1;32m----> 1\u001b[1;33m \u001b[0my_test\u001b[0m\u001b[1;33m.\u001b[0m\u001b[0mhead\u001b[0m\u001b[1;33m(\u001b[0m\u001b[1;33m)\u001b[0m\u001b[1;33m\u001b[0m\u001b[1;33m\u001b[0m\u001b[0m\n\u001b[0m",
      "\u001b[1;31mNameError\u001b[0m: name 'y_test' is not defined"
     ]
    }
   ],
   "source": [
    "#y_test.head()"
   ]
  },
  {
   "cell_type": "markdown",
   "id": "62eced26",
   "metadata": {},
   "source": [
    "#Build the model"
   ]
  },
  {
   "cell_type": "code",
   "execution_count": 15,
   "id": "0d95a223",
   "metadata": {},
   "outputs": [],
   "source": [
    "from sklearn.linear_model import LinearRegression \n",
    "from sklearn.metrics import r2_score"
   ]
  },
  {
   "cell_type": "code",
   "execution_count": 16,
   "id": "2350bd10",
   "metadata": {},
   "outputs": [],
   "source": [
    "clf = LinearRegression(normalize=True)\n",
    "#clf.fit(X_train,y_train)\n",
    "#y_pred = clf.predict(X_test)\n",
    "#print(r2_score(y_test,y_pred))"
   ]
  },
  {
   "cell_type": "code",
   "execution_count": 17,
   "id": "3f4dd03d",
   "metadata": {},
   "outputs": [
    {
     "data": {
      "text/plain": [
       "LinearRegression(normalize=True)"
      ]
     },
     "execution_count": 17,
     "metadata": {},
     "output_type": "execute_result"
    }
   ],
   "source": [
    "clf.fit(X_train,y_train)"
   ]
  },
  {
   "cell_type": "code",
   "execution_count": 18,
   "id": "82b7e8c1",
   "metadata": {},
   "outputs": [
    {
     "data": {
      "text/plain": [
       "array([26.32964501, 26.90136316, 34.55807484, 34.03523474, 31.10127248,\n",
       "       23.31280378, 21.59982284, 20.49814158, 11.52321537, 16.51158257,\n",
       "       19.08220147, 17.42991121, 21.72557423, 21.02348253, 17.82992103,\n",
       "       21.09654581, 21.03547764, 20.67908208, 17.5835248 , 15.64587915,\n",
       "       14.18971842, 21.23901513, 18.02109091, 15.64881699, 14.40857736,\n",
       "       11.03899466, 15.38606698, 16.26544937, 21.94427168, 25.89645227,\n",
       "       14.8292953 , 19.76637688, 18.20581596, 15.04868989, 20.18658079,\n",
       "       19.09303561, 18.92727457, 21.63629246, 21.25555527, 27.52377843,\n",
       "       30.49163122, 29.62336694, 27.0224705 , 26.5563939 , 24.51927015,\n",
       "       18.68739645, 19.90769541, 22.07733562, 10.66415917, 14.27992388,\n",
       "       21.4193027 , 22.34638653, 26.33184942, 23.82698119, 15.01399272,\n",
       "       32.13803866, 24.01476882, 31.47231904, 20.3785302 , 19.51140468,\n",
       "       17.75512167, 15.60227606, 23.72211079, 23.17387288, 29.71768568,\n",
       "       24.90418986, 23.03997131, 17.31614575, 14.69831704, 16.75454818,\n",
       "       26.98063996, 22.40795701, 26.46842122, 26.03599766, 24.23830438,\n",
       "       23.90657135, 21.90332312, 19.65438646, 21.09536626, 22.72636201,\n",
       "       26.30139099, 24.41187389, 26.91376647, 20.74076438, 26.6817056 ,\n",
       "       27.2397688 , 23.20802338, 22.38913362, 29.98467944, 33.19044069,\n",
       "       25.78626909, 25.70322971, 24.92205009, 27.76871764, 26.98276621,\n",
       "       27.34779609, 23.3228567 , 39.48645064, 41.58744805, 33.85276328,\n",
       "       25.26006933, 28.57066897, 18.62880919, 18.42279517, 19.29336064,\n",
       "       15.93223317, 13.20133762, 17.85141222, 21.06639287, 19.9209788 ,\n",
       "       23.04690127, 27.36588346, 15.98880154, 20.72275139, 23.11617729,\n",
       "       18.23043266, 20.30131033, 19.75982651, 19.36388569, 15.01720696,\n",
       "       19.90456396, 20.12160798, 19.32984037, 19.44787974, 21.74429068,\n",
       "       21.27880893, 16.35120336, 11.57098441, 18.81516789, 11.88861664,\n",
       "       23.62075026, 19.38233483, 21.87445144, 14.74068094, 12.77191962,\n",
       "       16.51378842, 16.71921809, 19.93995539, 12.33569221, 20.96102226,\n",
       "       13.67973243,  6.29314769, 13.68004284, 17.09294529, 12.36681112,\n",
       "       19.72376424, 19.05665788, 10.14759694, 12.40613354, 19.81510888,\n",
       "       22.08673427, 19.73889221, 15.42409285, 17.69250964, 25.85160072,\n",
       "       21.93581131, 16.62927244, 32.27791777, 25.12428384, 29.72559014,\n",
       "       26.6728187 , 38.05018037, 39.00277564, 42.50608328, 25.63149816,\n",
       "       23.30663611, 40.57620731, 22.38271932, 25.16922195, 26.74222635,\n",
       "       20.0397843 , 23.97280683, 19.44625648, 29.77288996, 22.41434161,\n",
       "       27.04135067, 23.51592091, 28.64171748, 33.49568719, 34.35762402,\n",
       "       38.25779654, 24.69497708, 31.7251791 , 27.4041441 , 20.30430217,\n",
       "       24.46950014, 42.06364223, 29.76026134, 28.20533933, 34.39917281,\n",
       "       34.84007203, 28.23899619, 30.99430272, 31.47000337, 33.77534841,\n",
       "       43.49407373, 35.64093344, 30.21115934, 37.976734  , 30.76893384,\n",
       "       30.85497144, 26.18541729, 35.45655658, 43.39138943, 41.55350464,\n",
       "       19.74542086, 23.83839509, 19.27663252, 23.57274855, 12.7664116 ,\n",
       "       20.14932461, 16.24892662, 18.07269165, 28.95509488, 15.23213381,\n",
       "       24.63061726, 20.74610274, 29.77798248, 21.44854992, 25.24600958,\n",
       "       33.18324228, 23.30998862, 30.9287886 , 30.33649039, 41.13477329,\n",
       "       41.29878985, 38.64199239, 31.95088767, 41.43732616, 34.20494722,\n",
       "       22.97722785, 38.03791049, 41.38345137, 40.69687903, 30.04871753,\n",
       "       23.35392668, 29.14113997, 35.59278404, 27.72283868, 29.78340863,\n",
       "       27.17854655, 21.01087224, 21.36439982, 25.14279234, 12.4177483 ,\n",
       "       10.37910158, 21.89327245, 18.30099056, 20.70343257, 29.26853185,\n",
       "       24.27829567, 26.50808748, 26.30796885, 37.63768944, 20.60058239,\n",
       "       17.21124571, 36.88854086, 44.61840489, 35.12746644, 34.81277074,\n",
       "       37.13963301, 40.05373041, 42.89976389, 39.50757574, 38.74294161,\n",
       "       23.12665353, 32.0865489 , 45.0412378 , 45.08080645, 23.65660899,\n",
       "       21.89660452, 25.54030844, 25.15597824, 40.84581021, 32.26101445,\n",
       "       33.9229971 , 33.46501497, 31.08881934, 29.99695821, 35.21736777,\n",
       "       42.18312951, 37.53233437, 40.57265703, 45.47445227, 32.99494007,\n",
       "       25.13627378, 22.61553763, 26.35236845, 26.10827702, 26.57486686,\n",
       "       29.66540022, 37.36954501, 30.23455826, 25.31784296, 21.89763194,\n",
       "       28.70902143, 27.68528495, 19.79813094, 28.16860051, 32.7567161 ,\n",
       "       28.95197142, 30.89241113, 27.80043904, 36.64126877, 38.52283789,\n",
       "       31.09702608, 39.13087175, 29.76340682, 30.23962714, 23.11489612,\n",
       "       14.65872615, 26.55270041, 23.14633918, 24.93357332, 23.00658756,\n",
       "       19.45943396, 18.94665908, 17.78212252, 24.68117289, 21.74272426,\n",
       "       27.23187986, 26.54712224, 21.75230314, 15.87233627, 26.24505348,\n",
       "       25.9556108 , 27.23076321, 21.78876368, 20.54691532, 24.03247118,\n",
       "       23.5387099 , 15.8656181 , 19.90502102, 25.13663186, 19.6370866 ,\n",
       "       21.09193319, 19.63098329, 19.6582324 , 22.73940615, 21.81095269,\n",
       "       19.65444797, 35.10586009, 24.37783287, 27.97871811, 30.77271229,\n",
       "       16.65527988, 13.23000816, 27.14157975, 27.60959621, 24.97843606])"
      ]
     },
     "execution_count": 18,
     "metadata": {},
     "output_type": "execute_result"
    }
   ],
   "source": [
    "train_predict = clf.predict(X_train)\n",
    "train_predict"
   ]
  },
  {
   "cell_type": "code",
   "execution_count": 19,
   "id": "6729f614",
   "metadata": {},
   "outputs": [
    {
     "data": {
      "text/plain": [
       "array([46.15051271, 24.91814052, 46.93745746, 43.25614755, 43.28319284,\n",
       "       35.84948709, 21.75510311, 19.41350774, 19.66982502, 21.92848343,\n",
       "       44.0065317 , 19.36758392, 35.23894451, 33.78703832, 29.72993583,\n",
       "       29.98389478, 31.22672063, 25.57641315, 30.64342527, 23.54668994,\n",
       "       41.03023426, 27.74561865, 15.52943213, 28.97160166, 23.37255103,\n",
       "       18.95423384, 20.64519228, 41.54994165, 44.57456687, 30.52143951,\n",
       "       17.04229096, 34.61905143, 37.45253604, 33.96337325, 37.11477638,\n",
       "       35.21925492, 29.65082304, 11.45456509, 23.58916374, 22.0558752 ,\n",
       "       11.67917081, 13.04272203, 33.83795527, 33.80321527, 29.65609835,\n",
       "       24.38420162, 22.98528062, 52.64746997, 36.71922763, 14.00888731,\n",
       "       12.78813985, 27.22859118, 33.60529417, 30.56716384, 40.81007212,\n",
       "       15.60049248, 49.03065792, 32.38204315, 16.10831253, 28.07261838,\n",
       "       17.77365087, 40.8435412 , 34.47806514, 32.54770398, 46.96939235,\n",
       "        6.01046036, 35.83641951, 37.14110406, 41.13449162, 32.77030302,\n",
       "       45.72686215, 42.23047224, 40.09868913, 34.78040554, 37.08551778,\n",
       "       31.9942656 , 37.9300504 , 33.08326903, 31.47235779, 12.51474124,\n",
       "       52.56371226, 42.94479777, 36.50949189, 39.49720731, 35.97670187,\n",
       "       34.84982628, 47.55169201, 23.2119238 , 35.78705078, 48.91086108,\n",
       "       35.6524019 , 31.97792188, 21.90787821, 47.84910028, 36.98318992,\n",
       "       40.26208091, 36.77513288, 46.61695352, 35.60111585,  1.23198357,\n",
       "        6.18431232, 42.45017359])"
      ]
     },
     "execution_count": 19,
     "metadata": {},
     "output_type": "execute_result"
    }
   ],
   "source": [
    "test_predict = clf.predict(X_test)\n",
    "test_predict"
   ]
  },
  {
   "cell_type": "code",
   "execution_count": 20,
   "id": "8dece5cd",
   "metadata": {},
   "outputs": [
    {
     "name": "stdout",
     "output_type": "stream",
     "text": [
      "0.812308778674881\n"
     ]
    }
   ],
   "source": [
    "print(r2_score(y_train,train_predict))"
   ]
  },
  {
   "cell_type": "code",
   "execution_count": 71,
   "id": "c3c4e372",
   "metadata": {},
   "outputs": [
    {
     "ename": "ValueError",
     "evalue": "Length of passed values is 350, index implies 363.",
     "output_type": "error",
     "traceback": [
      "\u001b[1;31m---------------------------------------------------------------------------\u001b[0m",
      "\u001b[1;31mValueError\u001b[0m                                Traceback (most recent call last)",
      "\u001b[1;32m<ipython-input-71-bbf4c600506a>\u001b[0m in \u001b[0;36m<module>\u001b[1;34m\u001b[0m\n\u001b[0;32m     13\u001b[0m     \u001b[0mmean_sq_er\u001b[0m \u001b[1;33m=\u001b[0m \u001b[0mnp\u001b[0m\u001b[1;33m.\u001b[0m\u001b[0msum\u001b[0m\u001b[1;33m(\u001b[0m\u001b[0merror\u001b[0m\u001b[1;33m**\u001b[0m\u001b[1;36m2\u001b[0m\u001b[1;33m)\u001b[0m\u001b[1;33m\u001b[0m\u001b[1;33m\u001b[0m\u001b[0m\n\u001b[0;32m     14\u001b[0m     \u001b[0mmean_sq_er\u001b[0m \u001b[1;33m=\u001b[0m \u001b[0mmean_sq_er\u001b[0m\u001b[1;33m/\u001b[0m\u001b[0mn\u001b[0m\u001b[1;33m\u001b[0m\u001b[1;33m\u001b[0m\u001b[0m\n\u001b[1;32m---> 15\u001b[1;33m     \u001b[0ma_0\u001b[0m \u001b[1;33m=\u001b[0m \u001b[0ma_0\u001b[0m \u001b[1;33m-\u001b[0m \u001b[0malpha\u001b[0m \u001b[1;33m*\u001b[0m \u001b[1;36m2\u001b[0m \u001b[1;33m*\u001b[0m \u001b[0mnp\u001b[0m\u001b[1;33m.\u001b[0m\u001b[0msum\u001b[0m\u001b[1;33m(\u001b[0m\u001b[0merror\u001b[0m\u001b[1;33m)\u001b[0m\u001b[1;33m/\u001b[0m\u001b[0mn\u001b[0m\u001b[1;33m\u001b[0m\u001b[1;33m\u001b[0m\u001b[0m\n\u001b[0m\u001b[0;32m     16\u001b[0m     \u001b[0ma_1\u001b[0m \u001b[1;33m=\u001b[0m \u001b[0ma_1\u001b[0m \u001b[1;33m-\u001b[0m \u001b[0malpha\u001b[0m \u001b[1;33m*\u001b[0m \u001b[1;36m2\u001b[0m \u001b[1;33m*\u001b[0m \u001b[0mnp\u001b[0m\u001b[1;33m.\u001b[0m\u001b[0msum\u001b[0m\u001b[1;33m(\u001b[0m\u001b[0merror\u001b[0m \u001b[1;33m*\u001b[0m \u001b[0mX_train\u001b[0m\u001b[1;33m)\u001b[0m\u001b[1;33m/\u001b[0m\u001b[0mn\u001b[0m\u001b[1;33m\u001b[0m\u001b[1;33m\u001b[0m\u001b[0m\n\u001b[0;32m     17\u001b[0m     \u001b[0mepochs\u001b[0m \u001b[1;33m+=\u001b[0m \u001b[1;36m13\u001b[0m\u001b[1;33m\u001b[0m\u001b[1;33m\u001b[0m\u001b[0m\n",
      "\u001b[1;32m~\\anaconda3\\lib\\site-packages\\pandas\\core\\generic.py\u001b[0m in \u001b[0;36m__array_ufunc__\u001b[1;34m(self, ufunc, method, *inputs, **kwargs)\u001b[0m\n\u001b[0;32m   1934\u001b[0m         \u001b[0mself\u001b[0m\u001b[1;33m,\u001b[0m \u001b[0mufunc\u001b[0m\u001b[1;33m:\u001b[0m \u001b[0mCallable\u001b[0m\u001b[1;33m,\u001b[0m \u001b[0mmethod\u001b[0m\u001b[1;33m:\u001b[0m \u001b[0mstr\u001b[0m\u001b[1;33m,\u001b[0m \u001b[1;33m*\u001b[0m\u001b[0minputs\u001b[0m\u001b[1;33m:\u001b[0m \u001b[0mAny\u001b[0m\u001b[1;33m,\u001b[0m \u001b[1;33m**\u001b[0m\u001b[0mkwargs\u001b[0m\u001b[1;33m:\u001b[0m \u001b[0mAny\u001b[0m\u001b[1;33m\u001b[0m\u001b[1;33m\u001b[0m\u001b[0m\n\u001b[0;32m   1935\u001b[0m     ):\n\u001b[1;32m-> 1936\u001b[1;33m         \u001b[1;32mreturn\u001b[0m \u001b[0marraylike\u001b[0m\u001b[1;33m.\u001b[0m\u001b[0marray_ufunc\u001b[0m\u001b[1;33m(\u001b[0m\u001b[0mself\u001b[0m\u001b[1;33m,\u001b[0m \u001b[0mufunc\u001b[0m\u001b[1;33m,\u001b[0m \u001b[0mmethod\u001b[0m\u001b[1;33m,\u001b[0m \u001b[1;33m*\u001b[0m\u001b[0minputs\u001b[0m\u001b[1;33m,\u001b[0m \u001b[1;33m**\u001b[0m\u001b[0mkwargs\u001b[0m\u001b[1;33m)\u001b[0m\u001b[1;33m\u001b[0m\u001b[1;33m\u001b[0m\u001b[0m\n\u001b[0m\u001b[0;32m   1937\u001b[0m \u001b[1;33m\u001b[0m\u001b[0m\n\u001b[0;32m   1938\u001b[0m     \u001b[1;31m# ideally we would define this to avoid the getattr checks, but\u001b[0m\u001b[1;33m\u001b[0m\u001b[1;33m\u001b[0m\u001b[1;33m\u001b[0m\u001b[0m\n",
      "\u001b[1;32m~\\anaconda3\\lib\\site-packages\\pandas\\core\\arraylike.py\u001b[0m in \u001b[0;36marray_ufunc\u001b[1;34m(self, ufunc, method, *inputs, **kwargs)\u001b[0m\n\u001b[0;32m    248\u001b[0m \u001b[1;33m\u001b[0m\u001b[0m\n\u001b[0;32m    249\u001b[0m     \u001b[1;31m# for binary ops, use our custom dunder methods\u001b[0m\u001b[1;33m\u001b[0m\u001b[1;33m\u001b[0m\u001b[1;33m\u001b[0m\u001b[0m\n\u001b[1;32m--> 250\u001b[1;33m     \u001b[0mresult\u001b[0m \u001b[1;33m=\u001b[0m \u001b[0mmaybe_dispatch_ufunc_to_dunder_op\u001b[0m\u001b[1;33m(\u001b[0m\u001b[0mself\u001b[0m\u001b[1;33m,\u001b[0m \u001b[0mufunc\u001b[0m\u001b[1;33m,\u001b[0m \u001b[0mmethod\u001b[0m\u001b[1;33m,\u001b[0m \u001b[1;33m*\u001b[0m\u001b[0minputs\u001b[0m\u001b[1;33m,\u001b[0m \u001b[1;33m**\u001b[0m\u001b[0mkwargs\u001b[0m\u001b[1;33m)\u001b[0m\u001b[1;33m\u001b[0m\u001b[1;33m\u001b[0m\u001b[0m\n\u001b[0m\u001b[0;32m    251\u001b[0m     \u001b[1;32mif\u001b[0m \u001b[0mresult\u001b[0m \u001b[1;32mis\u001b[0m \u001b[1;32mnot\u001b[0m \u001b[0mNotImplemented\u001b[0m\u001b[1;33m:\u001b[0m\u001b[1;33m\u001b[0m\u001b[1;33m\u001b[0m\u001b[0m\n\u001b[0;32m    252\u001b[0m         \u001b[1;32mreturn\u001b[0m \u001b[0mresult\u001b[0m\u001b[1;33m\u001b[0m\u001b[1;33m\u001b[0m\u001b[0m\n",
      "\u001b[1;32mpandas\\_libs\\ops_dispatch.pyx\u001b[0m in \u001b[0;36mpandas._libs.ops_dispatch.maybe_dispatch_ufunc_to_dunder_op\u001b[1;34m()\u001b[0m\n",
      "\u001b[1;32m~\\anaconda3\\lib\\site-packages\\pandas\\core\\ops\\common.py\u001b[0m in \u001b[0;36mnew_method\u001b[1;34m(self, other)\u001b[0m\n\u001b[0;32m     63\u001b[0m         \u001b[0mother\u001b[0m \u001b[1;33m=\u001b[0m \u001b[0mitem_from_zerodim\u001b[0m\u001b[1;33m(\u001b[0m\u001b[0mother\u001b[0m\u001b[1;33m)\u001b[0m\u001b[1;33m\u001b[0m\u001b[1;33m\u001b[0m\u001b[0m\n\u001b[0;32m     64\u001b[0m \u001b[1;33m\u001b[0m\u001b[0m\n\u001b[1;32m---> 65\u001b[1;33m         \u001b[1;32mreturn\u001b[0m \u001b[0mmethod\u001b[0m\u001b[1;33m(\u001b[0m\u001b[0mself\u001b[0m\u001b[1;33m,\u001b[0m \u001b[0mother\u001b[0m\u001b[1;33m)\u001b[0m\u001b[1;33m\u001b[0m\u001b[1;33m\u001b[0m\u001b[0m\n\u001b[0m\u001b[0;32m     66\u001b[0m \u001b[1;33m\u001b[0m\u001b[0m\n\u001b[0;32m     67\u001b[0m     \u001b[1;32mreturn\u001b[0m \u001b[0mnew_method\u001b[0m\u001b[1;33m\u001b[0m\u001b[1;33m\u001b[0m\u001b[0m\n",
      "\u001b[1;32m~\\anaconda3\\lib\\site-packages\\pandas\\core\\arraylike.py\u001b[0m in \u001b[0;36m__rsub__\u001b[1;34m(self, other)\u001b[0m\n\u001b[0;32m     99\u001b[0m     \u001b[1;33m@\u001b[0m\u001b[0munpack_zerodim_and_defer\u001b[0m\u001b[1;33m(\u001b[0m\u001b[1;34m\"__rsub__\"\u001b[0m\u001b[1;33m)\u001b[0m\u001b[1;33m\u001b[0m\u001b[1;33m\u001b[0m\u001b[0m\n\u001b[0;32m    100\u001b[0m     \u001b[1;32mdef\u001b[0m \u001b[0m__rsub__\u001b[0m\u001b[1;33m(\u001b[0m\u001b[0mself\u001b[0m\u001b[1;33m,\u001b[0m \u001b[0mother\u001b[0m\u001b[1;33m)\u001b[0m\u001b[1;33m:\u001b[0m\u001b[1;33m\u001b[0m\u001b[1;33m\u001b[0m\u001b[0m\n\u001b[1;32m--> 101\u001b[1;33m         \u001b[1;32mreturn\u001b[0m \u001b[0mself\u001b[0m\u001b[1;33m.\u001b[0m\u001b[0m_arith_method\u001b[0m\u001b[1;33m(\u001b[0m\u001b[0mother\u001b[0m\u001b[1;33m,\u001b[0m \u001b[0mroperator\u001b[0m\u001b[1;33m.\u001b[0m\u001b[0mrsub\u001b[0m\u001b[1;33m)\u001b[0m\u001b[1;33m\u001b[0m\u001b[1;33m\u001b[0m\u001b[0m\n\u001b[0m\u001b[0;32m    102\u001b[0m \u001b[1;33m\u001b[0m\u001b[0m\n\u001b[0;32m    103\u001b[0m     \u001b[1;33m@\u001b[0m\u001b[0munpack_zerodim_and_defer\u001b[0m\u001b[1;33m(\u001b[0m\u001b[1;34m\"__mul__\"\u001b[0m\u001b[1;33m)\u001b[0m\u001b[1;33m\u001b[0m\u001b[1;33m\u001b[0m\u001b[0m\n",
      "\u001b[1;32m~\\anaconda3\\lib\\site-packages\\pandas\\core\\series.py\u001b[0m in \u001b[0;36m_arith_method\u001b[1;34m(self, other, op)\u001b[0m\n\u001b[0;32m   4998\u001b[0m         \u001b[0mresult\u001b[0m \u001b[1;33m=\u001b[0m \u001b[0mops\u001b[0m\u001b[1;33m.\u001b[0m\u001b[0marithmetic_op\u001b[0m\u001b[1;33m(\u001b[0m\u001b[0mlvalues\u001b[0m\u001b[1;33m,\u001b[0m \u001b[0mrvalues\u001b[0m\u001b[1;33m,\u001b[0m \u001b[0mop\u001b[0m\u001b[1;33m)\u001b[0m\u001b[1;33m\u001b[0m\u001b[1;33m\u001b[0m\u001b[0m\n\u001b[0;32m   4999\u001b[0m \u001b[1;33m\u001b[0m\u001b[0m\n\u001b[1;32m-> 5000\u001b[1;33m         \u001b[1;32mreturn\u001b[0m \u001b[0mself\u001b[0m\u001b[1;33m.\u001b[0m\u001b[0m_construct_result\u001b[0m\u001b[1;33m(\u001b[0m\u001b[0mresult\u001b[0m\u001b[1;33m,\u001b[0m \u001b[0mname\u001b[0m\u001b[1;33m=\u001b[0m\u001b[0mres_name\u001b[0m\u001b[1;33m)\u001b[0m\u001b[1;33m\u001b[0m\u001b[1;33m\u001b[0m\u001b[0m\n\u001b[0m\u001b[0;32m   5001\u001b[0m \u001b[1;33m\u001b[0m\u001b[0m\n\u001b[0;32m   5002\u001b[0m \u001b[1;33m\u001b[0m\u001b[0m\n",
      "\u001b[1;32m~\\anaconda3\\lib\\site-packages\\pandas\\core\\series.py\u001b[0m in \u001b[0;36m_construct_result\u001b[1;34m(self, result, name)\u001b[0m\n\u001b[0;32m   2761\u001b[0m         \u001b[1;31m# We do not pass dtype to ensure that the Series constructor\u001b[0m\u001b[1;33m\u001b[0m\u001b[1;33m\u001b[0m\u001b[1;33m\u001b[0m\u001b[0m\n\u001b[0;32m   2762\u001b[0m         \u001b[1;31m#  does inference in the case where `result` has object-dtype.\u001b[0m\u001b[1;33m\u001b[0m\u001b[1;33m\u001b[0m\u001b[1;33m\u001b[0m\u001b[0m\n\u001b[1;32m-> 2763\u001b[1;33m         \u001b[0mout\u001b[0m \u001b[1;33m=\u001b[0m \u001b[0mself\u001b[0m\u001b[1;33m.\u001b[0m\u001b[0m_constructor\u001b[0m\u001b[1;33m(\u001b[0m\u001b[0mresult\u001b[0m\u001b[1;33m,\u001b[0m \u001b[0mindex\u001b[0m\u001b[1;33m=\u001b[0m\u001b[0mself\u001b[0m\u001b[1;33m.\u001b[0m\u001b[0mindex\u001b[0m\u001b[1;33m)\u001b[0m\u001b[1;33m\u001b[0m\u001b[1;33m\u001b[0m\u001b[0m\n\u001b[0m\u001b[0;32m   2764\u001b[0m         \u001b[0mout\u001b[0m \u001b[1;33m=\u001b[0m \u001b[0mout\u001b[0m\u001b[1;33m.\u001b[0m\u001b[0m__finalize__\u001b[0m\u001b[1;33m(\u001b[0m\u001b[0mself\u001b[0m\u001b[1;33m)\u001b[0m\u001b[1;33m\u001b[0m\u001b[1;33m\u001b[0m\u001b[0m\n\u001b[0;32m   2765\u001b[0m \u001b[1;33m\u001b[0m\u001b[0m\n",
      "\u001b[1;32m~\\anaconda3\\lib\\site-packages\\pandas\\core\\series.py\u001b[0m in \u001b[0;36m__init__\u001b[1;34m(self, data, index, dtype, name, copy, fastpath)\u001b[0m\n\u001b[0;32m    348\u001b[0m                 \u001b[1;32mtry\u001b[0m\u001b[1;33m:\u001b[0m\u001b[1;33m\u001b[0m\u001b[1;33m\u001b[0m\u001b[0m\n\u001b[0;32m    349\u001b[0m                     \u001b[1;32mif\u001b[0m \u001b[0mlen\u001b[0m\u001b[1;33m(\u001b[0m\u001b[0mindex\u001b[0m\u001b[1;33m)\u001b[0m \u001b[1;33m!=\u001b[0m \u001b[0mlen\u001b[0m\u001b[1;33m(\u001b[0m\u001b[0mdata\u001b[0m\u001b[1;33m)\u001b[0m\u001b[1;33m:\u001b[0m\u001b[1;33m\u001b[0m\u001b[1;33m\u001b[0m\u001b[0m\n\u001b[1;32m--> 350\u001b[1;33m                         raise ValueError(\n\u001b[0m\u001b[0;32m    351\u001b[0m                             \u001b[1;34mf\"Length of passed values is {len(data)}, \"\u001b[0m\u001b[1;33m\u001b[0m\u001b[1;33m\u001b[0m\u001b[0m\n\u001b[0;32m    352\u001b[0m                             \u001b[1;34mf\"index implies {len(index)}.\"\u001b[0m\u001b[1;33m\u001b[0m\u001b[1;33m\u001b[0m\u001b[0m\n",
      "\u001b[1;31mValueError\u001b[0m: Length of passed values is 350, index implies 363."
     ]
    }
   ],
   "source": [
    "#import numpy as np\n",
    "\n",
    "#n = 350\n",
    "#alpha = 0.0001\n",
    "\n",
    "#a_0 = np.zeros((n,1))\n",
    "#a_1 = np.zeros((n,1))\n",
    "\n",
    "#epochs = 0\n",
    "#while(epochs < 1000):\n",
    "    #y = a_0 + a_1 * X_train\n",
    "    #error = y - y_train\n",
    "    #mean_sq_er = np.sum(error**2)\n",
    "    #mean_sq_er = mean_sq_er/n\n",
    "    #a_0 = a_0 - alpha * 2 * np.sum(error)/n \n",
    "    #a_1 = a_1 - alpha * 2 * np.sum(error * X_train)/n\n",
    "    #epochs += 1\n",
    "    #if(epochs%10 == 0):\n",
    "        print(mean_sq_er)"
   ]
  },
  {
   "cell_type": "code",
   "execution_count": 65,
   "id": "93199e8b",
   "metadata": {},
   "outputs": [
    {
     "ename": "NameError",
     "evalue": "name 'a_0' is not defined",
     "output_type": "error",
     "traceback": [
      "\u001b[1;31m---------------------------------------------------------------------------\u001b[0m",
      "\u001b[1;31mNameError\u001b[0m                                 Traceback (most recent call last)",
      "\u001b[1;32m<ipython-input-65-6a796d8d65b4>\u001b[0m in \u001b[0;36m<module>\u001b[1;34m\u001b[0m\n\u001b[0;32m      1\u001b[0m \u001b[1;32mimport\u001b[0m \u001b[0mmatplotlib\u001b[0m\u001b[1;33m.\u001b[0m\u001b[0mpyplot\u001b[0m \u001b[1;32mas\u001b[0m \u001b[0mplt\u001b[0m\u001b[1;33m\u001b[0m\u001b[1;33m\u001b[0m\u001b[0m\n\u001b[0;32m      2\u001b[0m \u001b[1;33m\u001b[0m\u001b[0m\n\u001b[1;32m----> 3\u001b[1;33m \u001b[0mtrain_prediction\u001b[0m \u001b[1;33m=\u001b[0m \u001b[0ma_0\u001b[0m \u001b[1;33m+\u001b[0m \u001b[0ma_1\u001b[0m \u001b[1;33m*\u001b[0m \u001b[0mX_train\u001b[0m\u001b[1;33m\u001b[0m\u001b[1;33m\u001b[0m\u001b[0m\n\u001b[0m\u001b[0;32m      4\u001b[0m \u001b[0mprint\u001b[0m\u001b[1;33m(\u001b[0m\u001b[1;34m'R2 Score:'\u001b[0m\u001b[1;33m,\u001b[0m\u001b[0mr2_score\u001b[0m\u001b[1;33m(\u001b[0m\u001b[0my_train\u001b[0m\u001b[1;33m,\u001b[0m\u001b[0mtrain_predict\u001b[0m\u001b[1;33m)\u001b[0m\u001b[1;33m)\u001b[0m\u001b[1;33m\u001b[0m\u001b[1;33m\u001b[0m\u001b[0m\n\u001b[0;32m      5\u001b[0m \u001b[1;33m\u001b[0m\u001b[0m\n",
      "\u001b[1;31mNameError\u001b[0m: name 'a_0' is not defined"
     ]
    }
   ],
   "source": [
    "#import matplotlib.pyplot as plt \n",
    "\n",
    "#train_prediction = a_0 + a_1 * X_train\n",
    "#print('R2 Score:',r2_score(y_train,train_predict))\n",
    "\n",
    "#y_plot = []\n",
    "#for i in range(100):\n",
    "   # y_plot.append(a_0 + a_1 * i)\n",
    "#plt.figure(figsize=(10,10))\n",
    "#plt.scatter(x_train,y_train,color='red',label='GT')\n",
    "#plt.plot(range(len(y_plot)),y_plot,color='black',label = 'pred')\n",
    "#plt.legend()\n",
    "#plt.show()"
   ]
  },
  {
   "cell_type": "code",
   "execution_count": null,
   "id": "786b0b6b",
   "metadata": {},
   "outputs": [],
   "source": [
    "#import matplotlib.pyplot as plt \n",
    "\n",
    "#y_prediction = a_0 + a_1 * x_test\n",
    "#print('R2 Score:',r2_score(y_test,y_prediction))\n",
    "\n",
    "#y_plot = []\n",
    "#for i in range(100):\n",
    "    y_plot.append(a_0 + a_1 * i)\n",
    "plt.figure(figsize=(10,10))\n",
    "plt.scatter(x_test,y_test,color='red',label='GT')\n",
    "plt.plot(range(len(y_plot)),y_plot,color='black',label = 'pred')\n",
    "plt.legend()\n",
    "plt.show()"
   ]
  },
  {
   "cell_type": "code",
   "execution_count": 72,
   "id": "55baa2c3",
   "metadata": {},
   "outputs": [
    {
     "ename": "NameError",
     "evalue": "name 'mean_squared_error' is not defined",
     "output_type": "error",
     "traceback": [
      "\u001b[1;31m---------------------------------------------------------------------------\u001b[0m",
      "\u001b[1;31mNameError\u001b[0m                                 Traceback (most recent call last)",
      "\u001b[1;32m<ipython-input-72-cd2412b47834>\u001b[0m in \u001b[0;36m<module>\u001b[1;34m\u001b[0m\n\u001b[1;32m----> 1\u001b[1;33m \u001b[0mmean_squared_error\u001b[0m\u001b[1;33m(\u001b[0m\u001b[0mtrain_predict\u001b[0m\u001b[1;33m,\u001b[0m \u001b[0my_train\u001b[0m\u001b[1;33m,\u001b[0m \u001b[0msquared\u001b[0m \u001b[1;33m=\u001b[0m \u001b[1;32mFalse\u001b[0m\u001b[1;33m)\u001b[0m\u001b[1;33m\u001b[0m\u001b[1;33m\u001b[0m\u001b[0m\n\u001b[0m",
      "\u001b[1;31mNameError\u001b[0m: name 'mean_squared_error' is not defined"
     ]
    }
   ],
   "source": [
    "mean_squared_error(train_predict, y_train, squared = False)"
   ]
  },
  {
   "cell_type": "code",
   "execution_count": null,
   "id": "9141dd39",
   "metadata": {},
   "outputs": [],
   "source": []
  },
  {
   "cell_type": "code",
   "execution_count": null,
   "id": "7cb312ec",
   "metadata": {},
   "outputs": [],
   "source": []
  },
  {
   "cell_type": "code",
   "execution_count": null,
   "id": "74c999e9",
   "metadata": {},
   "outputs": [],
   "source": []
  },
  {
   "cell_type": "code",
   "execution_count": null,
   "id": "1689966b",
   "metadata": {},
   "outputs": [],
   "source": []
  },
  {
   "cell_type": "code",
   "execution_count": null,
   "id": "2dbef472",
   "metadata": {},
   "outputs": [],
   "source": []
  },
  {
   "cell_type": "code",
   "execution_count": null,
   "id": "ae7a4da1",
   "metadata": {},
   "outputs": [],
   "source": []
  }
 ],
 "metadata": {
  "kernelspec": {
   "display_name": "Python 3",
   "language": "python",
   "name": "python3"
  },
  "language_info": {
   "codemirror_mode": {
    "name": "ipython",
    "version": 3
   },
   "file_extension": ".py",
   "mimetype": "text/x-python",
   "name": "python",
   "nbconvert_exporter": "python",
   "pygments_lexer": "ipython3",
   "version": "3.8.8"
  }
 },
 "nbformat": 4,
 "nbformat_minor": 5
}
